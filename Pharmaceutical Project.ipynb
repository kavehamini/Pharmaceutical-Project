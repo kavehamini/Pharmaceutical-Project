{
 "cells": [
  {
   "cell_type": "markdown",
   "metadata": {},
   "source": [
    "# Pharmaceutical Project"
   ]
  },
  {
   "cell_type": "markdown",
   "metadata": {},
   "source": [
    "### Introduction"
   ]
  },
  {
   "cell_type": "code",
   "execution_count": 1,
   "metadata": {},
   "outputs": [],
   "source": [
    "#importing required modules\n",
    "import pandas as pd\n",
    "import numpy as np\n",
    "import matplotlib.pyplot as plt\n",
    "import seaborn as sns\n",
    "\n",
    "%matplotlib inline"
   ]
  },
  {
   "cell_type": "code",
   "execution_count": 3,
   "metadata": {},
   "outputs": [
    {
     "data": {
      "text/html": [
       "<div>\n",
       "<style scoped>\n",
       "    .dataframe tbody tr th:only-of-type {\n",
       "        vertical-align: middle;\n",
       "    }\n",
       "\n",
       "    .dataframe tbody tr th {\n",
       "        vertical-align: top;\n",
       "    }\n",
       "\n",
       "    .dataframe thead th {\n",
       "        text-align: right;\n",
       "    }\n",
       "</style>\n",
       "<table border=\"1\" class=\"dataframe\">\n",
       "  <thead>\n",
       "    <tr style=\"text-align: right;\">\n",
       "      <th></th>\n",
       "      <th>Sample-Number</th>\n",
       "      <th>Measure F</th>\n",
       "      <th>Measure E</th>\n",
       "      <th>Measure D</th>\n",
       "      <th>Measure C</th>\n",
       "      <th>Measure G</th>\n",
       "      <th>Measure B</th>\n",
       "      <th>Measure A</th>\n",
       "      <th>Measure H</th>\n",
       "    </tr>\n",
       "  </thead>\n",
       "  <tbody>\n",
       "    <tr>\n",
       "      <th>0</th>\n",
       "      <td>32976</td>\n",
       "      <td>0.3</td>\n",
       "      <td>0.7</td>\n",
       "      <td>9.8</td>\n",
       "      <td>283</td>\n",
       "      <td>0.020</td>\n",
       "      <td>99.6</td>\n",
       "      <td>6.0</td>\n",
       "      <td>140</td>\n",
       "    </tr>\n",
       "    <tr>\n",
       "      <th>1</th>\n",
       "      <td>33045</td>\n",
       "      <td>0.3</td>\n",
       "      <td>0.7</td>\n",
       "      <td>9.9</td>\n",
       "      <td>282</td>\n",
       "      <td>0.020</td>\n",
       "      <td>99.4</td>\n",
       "      <td>6.1</td>\n",
       "      <td>158</td>\n",
       "    </tr>\n",
       "    <tr>\n",
       "      <th>2</th>\n",
       "      <td>33232</td>\n",
       "      <td>0.4</td>\n",
       "      <td>1.1</td>\n",
       "      <td>11.0</td>\n",
       "      <td>282</td>\n",
       "      <td>0.028</td>\n",
       "      <td>100.0</td>\n",
       "      <td>6.1</td>\n",
       "      <td>149</td>\n",
       "    </tr>\n",
       "    <tr>\n",
       "      <th>3</th>\n",
       "      <td>33244</td>\n",
       "      <td>0.1</td>\n",
       "      <td>1.1</td>\n",
       "      <td>10.6</td>\n",
       "      <td>284</td>\n",
       "      <td>0.020</td>\n",
       "      <td>99.9</td>\n",
       "      <td>6.0</td>\n",
       "      <td>157</td>\n",
       "    </tr>\n",
       "    <tr>\n",
       "      <th>4</th>\n",
       "      <td>33392</td>\n",
       "      <td>0.1</td>\n",
       "      <td>1.3</td>\n",
       "      <td>11.7</td>\n",
       "      <td>289</td>\n",
       "      <td>0.021</td>\n",
       "      <td>99.1</td>\n",
       "      <td>6.1</td>\n",
       "      <td>159</td>\n",
       "    </tr>\n",
       "  </tbody>\n",
       "</table>\n",
       "</div>"
      ],
      "text/plain": [
       "   Sample-Number  Measure F  Measure E  Measure D  Measure C  Measure G  \\\n",
       "0          32976        0.3        0.7        9.8        283      0.020   \n",
       "1          33045        0.3        0.7        9.9        282      0.020   \n",
       "2          33232        0.4        1.1       11.0        282      0.028   \n",
       "3          33244        0.1        1.1       10.6        284      0.020   \n",
       "4          33392        0.1        1.3       11.7        289      0.021   \n",
       "\n",
       "   Measure B  Measure A  Measure H  \n",
       "0       99.6        6.0        140  \n",
       "1       99.4        6.1        158  \n",
       "2      100.0        6.1        149  \n",
       "3       99.9        6.0        157  \n",
       "4       99.1        6.1        159  "
      ]
     },
     "execution_count": 3,
     "metadata": {},
     "output_type": "execute_result"
    }
   ],
   "source": [
    "#reading the csv files\n",
    "df = pd.read_csv('data/lindatatussin_scrubbed.csv')\n",
    "df.head()"
   ]
  },
  {
   "cell_type": "code",
   "execution_count": null,
   "metadata": {},
   "outputs": [],
   "source": []
  }
 ],
 "metadata": {
  "kernelspec": {
   "display_name": "Python 3",
   "language": "python",
   "name": "python3"
  },
  "language_info": {
   "codemirror_mode": {
    "name": "ipython",
    "version": 3
   },
   "file_extension": ".py",
   "mimetype": "text/x-python",
   "name": "python",
   "nbconvert_exporter": "python",
   "pygments_lexer": "ipython3",
   "version": "3.7.3"
  }
 },
 "nbformat": 4,
 "nbformat_minor": 2
}
